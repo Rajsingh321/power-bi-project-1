{
 "cells": [
  {
   "cell_type": "code",
   "execution_count": 1,
   "id": "cd9b7dd0-546b-44b4-a7aa-01874967ce55",
   "metadata": {},
   "outputs": [],
   "source": [
    "import pandas as pd "
   ]
  },
  {
   "cell_type": "code",
   "execution_count": 3,
   "id": "69175b7d-ceb4-465f-b6d7-430ec43042c5",
   "metadata": {},
   "outputs": [],
   "source": [
    "data = pd.read_csv(\"flipkart_products_20250405.csv\")"
   ]
  },
  {
   "cell_type": "code",
   "execution_count": 7,
   "id": "93b977fe-94ba-4b23-94f0-ccc02a8208db",
   "metadata": {},
   "outputs": [],
   "source": [
    "df = pd.DataFrame(data)"
   ]
  },
  {
   "cell_type": "code",
   "execution_count": 9,
   "id": "cc30c2b7-0450-471d-ad43-64a4371f6e06",
   "metadata": {},
   "outputs": [
    {
     "name": "stdout",
     "output_type": "stream",
     "text": [
      "902763668601.0\n"
     ]
    }
   ],
   "source": [
    "total_sales = (df['Price (₹)'] * df['Total Sold']).sum()\n",
    "print(total_sales)"
   ]
  },
  {
   "cell_type": "code",
   "execution_count": null,
   "id": "ba82b492-d27c-42b7-9e6a-be520390f47e",
   "metadata": {},
   "outputs": [],
   "source": []
  }
 ],
 "metadata": {
  "kernelspec": {
   "display_name": "Python [conda env:base] *",
   "language": "python",
   "name": "conda-base-py"
  },
  "language_info": {
   "codemirror_mode": {
    "name": "ipython",
    "version": 3
   },
   "file_extension": ".py",
   "mimetype": "text/x-python",
   "name": "python",
   "nbconvert_exporter": "python",
   "pygments_lexer": "ipython3",
   "version": "3.12.7"
  }
 },
 "nbformat": 4,
 "nbformat_minor": 5
}
